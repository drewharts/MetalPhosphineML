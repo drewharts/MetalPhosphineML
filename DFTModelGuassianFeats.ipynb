{
 "cells": [
  {
   "cell_type": "code",
   "execution_count": 92,
   "id": "48181037",
   "metadata": {},
   "outputs": [],
   "source": [
    "import openbabel\n",
    "import molSimplify\n",
    "import numpy as np\n",
    "import pandas as pd\n",
    "import os\n",
    "from os.path import exists\n",
    "from rdkit import Chem\n",
    "from rdkit.Chem import Descriptors\n",
    "from mordred import Calculator, descriptors\n",
    "from openbabel import pybel\n",
    "from molSimplify.Informatics.lacRACAssemble import generate_full_complex_autocorrelations as gfca\n",
    "from molSimplify.Informatics.lacRACAssemble import autocorrelation\n",
    "from molSimplify.Informatics.lacRACAssemble import deltametric\n",
    "#use these to generate featureset\n",
    "#identify by USD Code\n",
    "from molSimplify.Informatics.lacRACAssemble import generate_metal_autocorrelations as gma\n",
    "from molSimplify.Informatics.lacRACAssemble import generate_metal_deltametrics as gmd\n",
    "\n",
    "from molSimplify.Classes.mol3D import*\n",
    "#easiest thing might be to just take one xyz and then form proper panda dataframe\n",
    "#then it will be easier to know how to add rest of data for 200+ molecules "
   ]
  },
  {
   "cell_type": "code",
   "execution_count": 93,
   "id": "63b5aee9",
   "metadata": {},
   "outputs": [],
   "source": [
    "from AaronTools.fileIO import FileReader\n",
    "from AaronTools.finders import WithinRadiusFromAtom, BondedElements\n",
    "from AaronTools.geometry import Geometry\n",
    "from AaronTools.utils.utils import glob_files"
   ]
  },
  {
   "cell_type": "code",
   "execution_count": 94,
   "id": "6d4b1144",
   "metadata": {
    "scrolled": true
   },
   "outputs": [
    {
     "name": "stdout",
     "output_type": "stream",
     "text": [
      "Empty DataFrame\n",
      "Columns: []\n",
      "Index: []\n"
     ]
    }
   ],
   "source": [
    "#Create dataframe to store gaussian generated features\n",
    "import pandas as pd\n",
    "\n",
    "gaussian_feats = pd.DataFrame()\n",
    "print(gaussian_feats)"
   ]
  },
  {
   "cell_type": "code",
   "execution_count": 95,
   "id": "ee541302",
   "metadata": {},
   "outputs": [
    {
     "name": "stderr",
     "output_type": "stream",
     "text": [
      "[14:27:15] Explicit valence for atom # 11 N, 4, is greater than permitted\n",
      "[14:27:15] Explicit valence for atom # 5 N, 4, is greater than permitted\n",
      "[14:27:15] Explicit valence for atom # 5 N, 4, is greater than permitted\n",
      "[14:27:15] Explicit valence for atom # 6 N, 4, is greater than permitted\n",
      "[14:27:15] Explicit valence for atom # 7 N, 4, is greater than permitted\n",
      "[14:27:15] Explicit valence for atom # 4 N, 4, is greater than permitted\n",
      "[14:27:15] Explicit valence for atom # 2 N, 4, is greater than permitted\n",
      "[14:27:15] Explicit valence for atom # 5 N, 4, is greater than permitted\n",
      "[14:27:15] Explicit valence for atom # 7 N, 4, is greater than permitted\n",
      "[14:27:15] Explicit valence for atom # 5 N, 4, is greater than permitted\n",
      "[14:27:15] Explicit valence for atom # 8 N, 4, is greater than permitted\n",
      "[14:27:15] Explicit valence for atom # 6 B, 4, is greater than permitted\n",
      "[14:27:15] Explicit valence for atom # 4 N, 4, is greater than permitted\n",
      "[14:27:15] Explicit valence for atom # 21 N, 4, is greater than permitted\n",
      "[14:27:15] Explicit valence for atom # 35 N, 4, is greater than permitted\n",
      "[14:27:15] Explicit valence for atom # 2 N, 4, is greater than permitted\n",
      "[14:27:15] Explicit valence for atom # 12 N, 4, is greater than permitted\n",
      "[14:27:15] Explicit valence for atom # 2 N, 4, is greater than permitted\n",
      "[14:27:15] Explicit valence for atom # 12 N, 4, is greater than permitted\n",
      "[14:27:15] Explicit valence for atom # 4 N, 4, is greater than permitted\n",
      "[14:27:15] Explicit valence for atom # 5 N, 4, is greater than permitted\n",
      "[14:27:15] Explicit valence for atom # 2 N, 4, is greater than permitted\n",
      "[14:27:15] Explicit valence for atom # 2 N, 4, is greater than permitted\n",
      "[14:27:15] Explicit valence for atom # 29 N, 4, is greater than permitted\n",
      "[14:27:15] Explicit valence for atom # 5 N, 4, is greater than permitted\n",
      "[14:27:15] Explicit valence for atom # 2 N, 4, is greater than permitted\n",
      "[14:27:15] Explicit valence for atom # 27 N, 4, is greater than permitted\n",
      "[14:27:15] Explicit valence for atom # 4 N, 4, is greater than permitted\n",
      "[14:27:15] Explicit valence for atom # 3 N, 4, is greater than permitted\n",
      "[14:27:15] Explicit valence for atom # 1 N, 4, is greater than permitted\n",
      "[14:27:15] Explicit valence for atom # 36 N, 4, is greater than permitted\n",
      "[14:27:15] Explicit valence for atom # 4 N, 4, is greater than permitted\n",
      "[14:27:15] Explicit valence for atom # 3 N, 4, is greater than permitted\n",
      "[14:27:15] Explicit valence for atom # 4 N, 4, is greater than permitted\n",
      "[14:27:15] Explicit valence for atom # 21 N, 4, is greater than permitted\n",
      "[14:27:15] Explicit valence for atom # 4 N, 4, is greater than permitted\n",
      "  4%|█▌                                         | 9/252 [00:05<00:54,  4.47it/s]"
     ]
    },
    {
     "name": "stdout",
     "output_type": "stream",
     "text": [
      "/Users/drewhartsfield/miniforge3/lib/python3.9/site-packages/numpy/core/fromnumeric.py:86: RuntimeWarning: overflow encountered in reduce\n",
      "  return ufunc.reduce(obj, axis, dtype, out, **passkwargs)\n"
     ]
    },
    {
     "name": "stderr",
     "output_type": "stream",
     "text": [
      "  5%|██                                        | 12/252 [00:06<00:45,  5.25it/s]"
     ]
    },
    {
     "name": "stdout",
     "output_type": "stream",
     "text": [
      "/Users/drewhartsfield/miniforge3/lib/python3.9/site-packages/numpy/core/fromnumeric.py:86: RuntimeWarning: overflow encountered in reduce\n",
      "  return ufunc.reduce(obj, axis, dtype, out, **passkwargs)\n"
     ]
    },
    {
     "name": "stderr",
     "output_type": "stream",
     "text": [
      "  8%|███▌                                      | 21/252 [00:07<00:30,  7.50it/s]"
     ]
    },
    {
     "name": "stdout",
     "output_type": "stream",
     "text": [
      "/Users/drewhartsfield/miniforge3/lib/python3.9/site-packages/numpy/core/fromnumeric.py:86: RuntimeWarning: overflow encountered in reduce\n",
      "  return ufunc.reduce(obj, axis, dtype, out, **passkwargs)\n"
     ]
    },
    {
     "name": "stderr",
     "output_type": "stream",
     "text": [
      " 10%|████                                      | 24/252 [00:07<00:31,  7.24it/s]"
     ]
    },
    {
     "name": "stdout",
     "output_type": "stream",
     "text": [
      "/Users/drewhartsfield/miniforge3/lib/python3.9/site-packages/numpy/core/fromnumeric.py:86: RuntimeWarning: overflow encountered in reduce\n",
      "  return ufunc.reduce(obj, axis, dtype, out, **passkwargs)\n"
     ]
    },
    {
     "name": "stderr",
     "output_type": "stream",
     "text": [
      " 12%|█████▏                                    | 31/252 [00:08<00:33,  6.56it/s]"
     ]
    },
    {
     "name": "stdout",
     "output_type": "stream",
     "text": [
      "/Users/drewhartsfield/miniforge3/lib/python3.9/site-packages/numpy/core/fromnumeric.py:86: RuntimeWarning: overflow encountered in reduce\n",
      "  return ufunc.reduce(obj, axis, dtype, out, **passkwargs)\n"
     ]
    },
    {
     "name": "stderr",
     "output_type": "stream",
     "text": [
      " 20%|████████▎                                 | 50/252 [00:11<00:28,  7.03it/s]"
     ]
    },
    {
     "name": "stdout",
     "output_type": "stream",
     "text": [
      "/Users/drewhartsfield/miniforge3/lib/python3.9/site-packages/numpy/core/fromnumeric.py:86: RuntimeWarning: overflow encountered in reduce\n",
      "  return ufunc.reduce(obj, axis, dtype, out, **passkwargs)\n"
     ]
    },
    {
     "name": "stderr",
     "output_type": "stream",
     "text": [
      " 30%|████████████▋                             | 76/252 [00:15<00:24,  7.15it/s]"
     ]
    },
    {
     "name": "stdout",
     "output_type": "stream",
     "text": [
      "/Users/drewhartsfield/miniforge3/lib/python3.9/site-packages/numpy/core/fromnumeric.py:86: RuntimeWarning: overflow encountered in reduce\n",
      "  return ufunc.reduce(obj, axis, dtype, out, **passkwargs)\n",
      "/Users/drewhartsfield/miniforge3/lib/python3.9/site-packages/numpy/core/fromnumeric.py:86: RuntimeWarning: overflow encountered in reduce\n",
      "  return ufunc.reduce(obj, axis, dtype, out, **passkwargs)\n"
     ]
    },
    {
     "name": "stderr",
     "output_type": "stream",
     "text": [
      " 44%|██████████████████▏                      | 112/252 [00:20<00:20,  6.85it/s]"
     ]
    },
    {
     "name": "stdout",
     "output_type": "stream",
     "text": [
      "/Users/drewhartsfield/miniforge3/lib/python3.9/site-packages/numpy/core/fromnumeric.py:86: RuntimeWarning: overflow encountered in reduce\n",
      "  return ufunc.reduce(obj, axis, dtype, out, **passkwargs)\n"
     ]
    },
    {
     "name": "stderr",
     "output_type": "stream",
     "text": [
      "100%|█████████████████████████████████████████| 252/252 [00:37<00:00,  6.80it/s]"
     ]
    },
    {
     "name": "stdout",
     "output_type": "stream",
     "text": [
      "NUMBER OF VALID MOLSIMPLIFY OBJS\n",
      "252\n",
      "Invalid file paths: ['/Users/drewhartsfield/PycharmProjects/PPh3-Pd_SORTER/DFTProcessing/notRemovedDFTSuccess_copy/file_4.mol', '/Users/drewhartsfield/PycharmProjects/PPh3-Pd_SORTER/DFTProcessing/notRemovedDFTSuccess_copy/file_63.mol', '/Users/drewhartsfield/PycharmProjects/PPh3-Pd_SORTER/DFTProcessing/notRemovedDFTSuccess_copy/file_76.mol', '/Users/drewhartsfield/PycharmProjects/PPh3-Pd_SORTER/DFTProcessing/notRemovedDFTSuccess_copy/file_90.mol', '/Users/drewhartsfield/PycharmProjects/PPh3-Pd_SORTER/DFTProcessing/notRemovedDFTSuccess_copy/file_101.mol', '/Users/drewhartsfield/PycharmProjects/PPh3-Pd_SORTER/DFTProcessing/notRemovedDFTSuccess_copy/file_115.mol', '/Users/drewhartsfield/PycharmProjects/PPh3-Pd_SORTER/DFTProcessing/notRemovedDFTSuccess_copy/file_117.mol', '/Users/drewhartsfield/PycharmProjects/PPh3-Pd_SORTER/DFTProcessing/notRemovedDFTSuccess_copy/file_137.mol', '/Users/drewhartsfield/PycharmProjects/PPh3-Pd_SORTER/DFTProcessing/notRemovedDFTSuccess_copy/file_161.mol', '/Users/drewhartsfield/PycharmProjects/PPh3-Pd_SORTER/DFTProcessing/notRemovedDFTSuccess_copy/file_162.mol', '/Users/drewhartsfield/PycharmProjects/PPh3-Pd_SORTER/DFTProcessing/notRemovedDFTSuccess_copy/file_166.mol', '/Users/drewhartsfield/PycharmProjects/PPh3-Pd_SORTER/DFTProcessing/notRemovedDFTSuccess_copy/file_167.mol', '/Users/drewhartsfield/PycharmProjects/PPh3-Pd_SORTER/DFTProcessing/notRemovedDFTSuccess_copy/file_189.mol', '/Users/drewhartsfield/PycharmProjects/PPh3-Pd_SORTER/DFTProcessing/notRemovedDFTSuccess_copy/file_192.mol', '/Users/drewhartsfield/PycharmProjects/PPh3-Pd_SORTER/DFTProcessing/notRemovedDFTSuccess_copy/file_206.mol', '/Users/drewhartsfield/PycharmProjects/PPh3-Pd_SORTER/DFTProcessing/notRemovedDFTSuccess_copy/file_238.mol', '/Users/drewhartsfield/PycharmProjects/PPh3-Pd_SORTER/DFTProcessing/notRemovedDFTSuccess_copy/file_240.mol', '/Users/drewhartsfield/PycharmProjects/PPh3-Pd_SORTER/DFTProcessing/notRemovedDFTSuccess_copy/file_250.mol', '/Users/drewhartsfield/PycharmProjects/PPh3-Pd_SORTER/DFTProcessing/notRemovedDFTSuccess_copy/file_257.mol', '/Users/drewhartsfield/PycharmProjects/PPh3-Pd_SORTER/DFTProcessing/notRemovedDFTSuccess_copy/file_259.mol', '/Users/drewhartsfield/PycharmProjects/PPh3-Pd_SORTER/DFTProcessing/notRemovedDFTSuccess_copy/file_285.mol', '/Users/drewhartsfield/PycharmProjects/PPh3-Pd_SORTER/DFTProcessing/notRemovedDFTSuccess_copy/file_286.mol', '/Users/drewhartsfield/PycharmProjects/PPh3-Pd_SORTER/DFTProcessing/notRemovedDFTSuccess_copy/file_299.mol', '/Users/drewhartsfield/PycharmProjects/PPh3-Pd_SORTER/DFTProcessing/notRemovedDFTSuccess_copy/file_347.mol', '/Users/drewhartsfield/PycharmProjects/PPh3-Pd_SORTER/DFTProcessing/notRemovedDFTSuccess_copy/file_356.mol', '/Users/drewhartsfield/PycharmProjects/PPh3-Pd_SORTER/DFTProcessing/notRemovedDFTSuccess_copy/file_358.mol', '/Users/drewhartsfield/PycharmProjects/PPh3-Pd_SORTER/DFTProcessing/notRemovedDFTSuccess_copy/file_365.mol', '/Users/drewhartsfield/PycharmProjects/PPh3-Pd_SORTER/DFTProcessing/notRemovedDFTSuccess_copy/file_366.mol', '/Users/drewhartsfield/PycharmProjects/PPh3-Pd_SORTER/DFTProcessing/notRemovedDFTSuccess_copy/file_376.mol', '/Users/drewhartsfield/PycharmProjects/PPh3-Pd_SORTER/DFTProcessing/notRemovedDFTSuccess_copy/file_381.mol', '/Users/drewhartsfield/PycharmProjects/PPh3-Pd_SORTER/DFTProcessing/notRemovedDFTSuccess_copy/file_397.mol', '/Users/drewhartsfield/PycharmProjects/PPh3-Pd_SORTER/DFTProcessing/notRemovedDFTSuccess_copy/file_402.mol', '/Users/drewhartsfield/PycharmProjects/PPh3-Pd_SORTER/DFTProcessing/notRemovedDFTSuccess_copy/file_433.mol', '/Users/drewhartsfield/PycharmProjects/PPh3-Pd_SORTER/DFTProcessing/notRemovedDFTSuccess_copy/file_437.mol', '/Users/drewhartsfield/PycharmProjects/PPh3-Pd_SORTER/DFTProcessing/notRemovedDFTSuccess_copy/file_458.mol', '/Users/drewhartsfield/PycharmProjects/PPh3-Pd_SORTER/DFTProcessing/notRemovedDFTSuccess_copy/file_465.mol']\n",
      "           ABC      ABCGG  nAcid  nBase    SpAbs_A   SpMax_A  SpDiam_A  \\\n",
      "0    28.047898  22.705659      0      0  46.963609  2.737172  5.401286   \n",
      "1    28.190388  22.140115      0      2  46.673712  2.692242  5.343818   \n",
      "2    32.422696  27.620690      0      0   55.00053  2.642383  5.266345   \n",
      "3    37.405302  27.219878      0      0  61.464455  2.755195  5.406747   \n",
      "4    29.544740  22.694014      0      0  50.058889  2.677654  5.295262   \n",
      "..         ...        ...    ...    ...        ...       ...       ...   \n",
      "247  45.307980  35.438966      0      0  77.973722  2.804921  5.609842   \n",
      "248  32.014832  26.656298      0      0  52.588999  2.688699  5.320449   \n",
      "249  29.957779  23.857534      0      0  50.770865   2.77793  5.436092   \n",
      "250  36.378759  28.690664      0      0   61.32982  2.770889   5.45014   \n",
      "251  33.756030  26.659999      0      0   57.53786  2.651663   5.28075   \n",
      "\n",
      "        SpAD_A   SpMAD_A   LogEE_A  ...      TSRW10          MW        AMW  \\\n",
      "0    46.963609  1.341817  4.521502  ...   87.584071  569.073602   9.329075   \n",
      "1    46.673712  1.333535  4.520957  ...   86.901048  609.002284  10.500039   \n",
      "2     55.00053  1.279082  4.672024  ...   94.606017  738.137236   8.582991   \n",
      "3    61.464455  1.336184  4.799692  ...  101.565896  735.164915   8.450171   \n",
      "4    50.058889  1.352943   4.56705  ...   89.186701  693.922632  11.565377   \n",
      "..         ...       ...       ...  ...         ...         ...        ...   \n",
      "247  77.973722   1.36796  5.002191  ...   97.238143  922.100250   9.221003   \n",
      "248  52.588999  1.314725  4.648014  ...   95.047246  679.115378   8.706607   \n",
      "249  50.770865  1.372186  4.589003  ...   91.915792  612.058773   9.715219   \n",
      "250   61.32982  1.362885  4.779544  ...  100.809545  736.006556  10.514379   \n",
      "251   57.53786   1.33809  4.703983  ...   95.155706  901.924747  12.188172   \n",
      "\n",
      "    WPath WPol Zagreb1  Zagreb2   mZagreb1   mZagreb2  \\\n",
      "0    2751   75   200.0    255.0      9.375   7.631944   \n",
      "1    2933   71   200.0    251.0      9.375   7.534722   \n",
      "2    5511   76   218.0    262.0  13.763889  10.034722   \n",
      "3    5796   98   268.0    338.0  12.270833   9.729167   \n",
      "4    3631   71   206.0    255.0   9.263889   8.076389   \n",
      "..    ...  ...     ...      ...        ...        ...   \n",
      "247  9592  117   320.0    405.0  13.611111  12.673611   \n",
      "248  4216   80   228.0    287.0  12.027778   8.527778   \n",
      "249  3139   81   216.0    279.0   8.986111   8.034722   \n",
      "250  5233   99   262.0    337.0  11.930556   9.729167   \n",
      "251  5419   82   234.0    288.0  11.986111   9.590278   \n",
      "\n",
      "                                            mol id  \n",
      "0    <rdkit.Chem.rdchem.Mol object at 0x28c8164a0>  \n",
      "1    <rdkit.Chem.rdchem.Mol object at 0x299229a50>  \n",
      "2    <rdkit.Chem.rdchem.Mol object at 0x28c8163c0>  \n",
      "3    <rdkit.Chem.rdchem.Mol object at 0x299229c10>  \n",
      "4    <rdkit.Chem.rdchem.Mol object at 0x299229890>  \n",
      "..                                             ...  \n",
      "247  <rdkit.Chem.rdchem.Mol object at 0x28f233430>  \n",
      "248  <rdkit.Chem.rdchem.Mol object at 0x28f2334a0>  \n",
      "249  <rdkit.Chem.rdchem.Mol object at 0x28f233510>  \n",
      "250  <rdkit.Chem.rdchem.Mol object at 0x28f233580>  \n",
      "251  <rdkit.Chem.rdchem.Mol object at 0x28f2335f0>  \n",
      "\n",
      "[252 rows x 1827 columns]\n"
     ]
    },
    {
     "name": "stderr",
     "output_type": "stream",
     "text": [
      "\n"
     ]
    }
   ],
   "source": [
    "#Trying to identify which file's don't get turned into rdkit objects properly\n",
    "file_path = \"/Users/drewhartsfield/PycharmProjects/PPh3-Pd_SORTER/DFTProcessing/notRemovedDFTSuccess_copy/\"\n",
    "mols_mordred = []\n",
    "\n",
    "# Assuming you have a list of file names defined as 'file_names'\n",
    "for f in file_names:\n",
    "    new_file_path = os.path.splitext(file_path + f)[0] + '.mol'\n",
    "    mol = Chem.MolFromMolFile(new_file_path, sanitize=True)\n",
    "    mols_mordred.append(mol)\n",
    "\n",
    "calc = Calculator(descriptors, ignore_3D=False)\n",
    "\n",
    "valid_mols = []\n",
    "invalid_file_paths = []\n",
    "\n",
    "for f, mol in zip(file_names, mols_mordred):\n",
    "    if mol is not None:\n",
    "        valid_mols.append(mol)\n",
    "    else:\n",
    "        invalid_file_paths.append(os.path.splitext(file_path + f)[0] + '.mol')\n",
    "\n",
    "df = calc.pandas(valid_mols)\n",
    "df[\"mol id\"] = valid_mols\n",
    "\n",
    "print(\"NUMBER OF VALID MOLSIMPLIFY OBJS\")\n",
    "print(len(valid_mols))\n",
    "print(\"Invalid file paths:\", invalid_file_paths)\n",
    "print(df)\n"
   ]
  },
  {
   "cell_type": "code",
   "execution_count": 96,
   "id": "5dc22cd1",
   "metadata": {
    "scrolled": true
   },
   "outputs": [
    {
     "name": "stdout",
     "output_type": "stream",
     "text": [
      "NUMBER OF FILES:\n",
      "490\n",
      "NUMBER OF MONO PPH3:\n",
      "288\n",
      "       file_names  M-P Distance\n",
      "0      file_2.log      2.335587\n",
      "1      file_3.log      2.322004\n",
      "2      file_4.log      2.279662\n",
      "3      file_8.log      2.297092\n",
      "4      file_9.log      2.321698\n",
      "..            ...           ...\n",
      "283  file_492.log      2.359158\n",
      "284  file_494.log      2.275222\n",
      "285  file_495.log      2.309978\n",
      "286  file_496.log      2.300993\n",
      "287  file_497.log      2.368634\n",
      "\n",
      "[288 rows x 2 columns]\n"
     ]
    }
   ],
   "source": [
    "from AaronTools.geometry import Geometry\n",
    "from AaronTools.finders import BondedTo\n",
    "\n",
    "\n",
    "file_path = \"/Users/drewhartsfield/PycharmProjects/PPh3-Pd_SORTER/DFTProcessing/notRemovedDFTSuccess_copy/\"\n",
    "file_list = []\n",
    "\n",
    "for i in range(2, 499):\n",
    "    filename = \"file_\" + str(i) + \".log\"\n",
    "    file_full_path = os.path.join(file_path, filename)\n",
    "    \n",
    "    if os.path.exists(file_full_path):\n",
    "        file_list.append(file_full_path)\n",
    "print(\"NUMBER OF FILES:\")\n",
    "print(len(file_list))\n",
    "\n",
    "#Find the distance between the Palladium and Phosphine\n",
    "M_P_dist = []\n",
    "file_names = []\n",
    "for f in file_list:\n",
    "    # refresh_ranks=False will make this faster, as we don't need\n",
    "    # ranks to find indices\n",
    "    geom = Geometry(f, refresh_ranks=False)\n",
    "    # find returns a list of Atom objects\n",
    "    # I'm assuming there's only one Pd\n",
    "    Pd = geom.find(\"Pd\")[0]\n",
    "    # if all P atoms are bonded to Pd, you can just use the\n",
    "    # element symbol instead of BondedTo\n",
    "    # there's more 'finders' documented here: https://aarontools.readthedocs.io/en/latest/api/finders.html \n",
    "    P_atoms = geom.find(\"P\", BondedTo(Pd))\n",
    "    Pd_ndx = geom.atoms.index(Pd)\n",
    "    if len(P_atoms) == 1:\n",
    "        file_names.append(os.path.basename(f))\n",
    "        M_P_dist.append(Pd.dist(P_atoms[0]))\n",
    "                        \n",
    "print(\"NUMBER OF MONO PPH3:\")\n",
    "print(len(M_P_dist))   \n",
    "# print(M_P_dist)\n",
    "# print(file_names)\n",
    "gaussian_feats[\"file_names\"] = file_names\n",
    "gaussian_feats[\"M-P Distance\"] = M_P_dist\n",
    "print(gaussian_feats)"
   ]
  },
  {
   "cell_type": "code",
   "execution_count": 97,
   "id": "0aae042f",
   "metadata": {
    "scrolled": false
   },
   "outputs": [],
   "source": [
    "# from rdkit import Chem\n",
    "# from rdkit.Chem import Descriptors\n",
    "# from mordred import Calculator, descriptors\n",
    "# from openbabel import pybel\n",
    "# from molSimplify.Informatics.lacRACAssemble import generate_full_complex_autocorrelations as gfca\n",
    "# from molSimplify.Informatics.lacRACAssemble import autocorrelation\n",
    "# from molSimplify.Informatics.lacRACAssemble import deltametric\n",
    "# #use these to generate featureset\n",
    "# #identify by USD Code\n",
    "# from molSimplify.Informatics.lacRACAssemble import generate_metal_autocorrelations as gma\n",
    "# from molSimplify.Informatics.lacRACAssemble import generate_metal_deltametrics as gmd\n",
    "\n",
    "# from molSimplify.Classes.mol3D import*\n",
    "\n",
    "# file_path = \"/Users/drewhartsfield/PycharmProjects/PPh3-Pd_SORTER/DFTProcessing/notRemovedDFTSuccess_copy/\"\n",
    "\n",
    "# mols_mordred = []\n",
    "# for f in file_names:\n",
    "# #     print(f)\n",
    "#     new_file_path = os.path.splitext(file_path + f)[0] + '.mol'\n",
    "# #     print(new_file_path)\n",
    "#     mol = Chem.MolFromMolFile(new_file_path, sanitize=True)\n",
    "#     mols_mordred.append(mol)\n",
    "\n",
    "    \n",
    "# calc = Calculator(descriptors, ignore_3D=False)\n",
    "# print(len(mols_mordred))\n",
    "# valid_mols = [mol for mol in mols_mordred if mol is not None]\n",
    "# invalid_mols = [mol for mol in mols]\n",
    "# df = calc.pandas(valid_mols)\n",
    "# df[\"mol id\"] = valid_mols\n",
    "# print(\"NUMBER OF VALID MOLSIMPLIFY OBJS\")\n",
    "# print(len(valid_mols))\n",
    "# print(df)"
   ]
  },
  {
   "cell_type": "code",
   "execution_count": 98,
   "id": "9b08c3db",
   "metadata": {},
   "outputs": [
    {
     "name": "stdout",
     "output_type": "stream",
     "text": [
      "number of frequencies:\n",
      "288\n",
      "       file_names  M-P Distance  frequencies  Pd Charges  P Charges\n",
      "0      file_2.log      2.335587     441.3224    0.145934   0.374562\n",
      "1      file_3.log      2.322004     533.4963    0.156615   0.376504\n",
      "2      file_4.log      2.279662     538.0357   -0.035276   0.406953\n",
      "3      file_8.log      2.297092     536.7830   -0.097865   0.333561\n",
      "4      file_9.log      2.321698     438.6867   -0.005311   0.397099\n",
      "..            ...           ...          ...         ...        ...\n",
      "283  file_492.log      2.359158     435.4185   -0.116444   0.367138\n",
      "284  file_494.log      2.275222     538.4829   -0.135472   0.374371\n",
      "285  file_495.log      2.309978     536.3384    0.212917   0.365079\n",
      "286  file_496.log      2.300993     537.9040   -0.034927   0.378455\n",
      "287  file_497.log      2.368634     195.4835   -0.272213   0.375221\n",
      "\n",
      "[288 rows x 5 columns]\n"
     ]
    }
   ],
   "source": [
    "\n",
    "\n",
    "# SCRIPT TO TAKE A METAL-METHYL COMPLEX LOG FILE AND FIND THE FREQUENCY CORRESPONDING TO THE MOST BOND MOTION (\"BOND FREQUENCY\")\n",
    "# Written by Jugal at some point, adapted by Spencer Ricks 8/14/2023\n",
    "\n",
    "import argparse\n",
    "\n",
    "from AaronTools.fileIO import FileReader\n",
    "from AaronTools.finders import WithinRadiusFromAtom, BondedElements\n",
    "from AaronTools.geometry import Geometry\n",
    "from AaronTools.utils.utils import glob_files\n",
    "\n",
    "frc_constants = []\n",
    "frequencies = []\n",
    "Pd_charges = []\n",
    "P_charges = []\n",
    "#Remember that we're only grabbing files with mono PPh3\n",
    "for f in file_names:\n",
    "    full_file_path = file_path + f\n",
    "    fr = FileReader(full_file_path, just_geom=False)\n",
    "    geom = Geometry(fr, refresh_ranks=False, refresh_connected=True)\n",
    "    Pd = geom.find(\"Pd\")[0]\n",
    "    Pd_index = geom.atoms.index(Pd)\n",
    "    Pd_charge = fr[\"Mulliken Charges\"][Pd_ndx]\n",
    "    Pd_charges.append(Pd_charge)\n",
    "    \n",
    "    P = geom.find(\n",
    "        \"P\",\n",
    "        WithinRadiusFromAtom(Pd, 2.5),\n",
    "    )[0]\n",
    "    \n",
    "#     else:\n",
    "#         P = geom.find(args.carbon)[0]\n",
    "    P_index = geom.atoms.index(P)\n",
    "    P_charge = fr[\"Mulliken Charges\"][P_index]\n",
    "    P_charges.append(P_charge)\n",
    "    strech =np.zeros((len(fr.atoms),3))\n",
    "    strech[geom.atoms.index(Pd)]=Pd.bond(P)\n",
    "    strech[geom.atoms.index(P)]=P.bond(Pd)\n",
    "    freq= fr[\"frequency\"]\n",
    "    mass=np.array([np.sqrt(a.mass) for a in geom.atoms])\n",
    "    best_overlap = None\n",
    "    best_mode = None\n",
    "    for mode in freq.data:\n",
    "        disp =mode.vector\n",
    "        disp*=mass[:,np.newaxis]\n",
    "        overlap=abs(np.sum(disp * strech))\n",
    "        if best_overlap is None or overlap > best_overlap:\n",
    "            best_overlap = overlap\n",
    "            best_mode = mode\n",
    "\n",
    "    #print(f, best_mode.frequency)\n",
    "#     print(best_mode.frequency)\n",
    "    frequencies.append(best_mode.frequency)\n",
    "    \n",
    "#harmonicvibration\n",
    "#parse_gaussian_lines\n",
    "print(\"number of frequencies:\")\n",
    "print(len(frequencies))\n",
    "gaussian_feats[\"frequencies\"] = frequencies\n",
    "gaussian_feats[\"Pd Charges\"] = Pd_charges\n",
    "gaussian_feats[\"P Charges\"] = P_charges\n",
    "print(gaussian_feats)\n",
    "\n"
   ]
  },
  {
   "cell_type": "code",
   "execution_count": 99,
   "id": "2d065fe5",
   "metadata": {},
   "outputs": [
    {
     "name": "stdout",
     "output_type": "stream",
     "text": [
      "288\n",
      "       file_names  M-P Distance  frequencies  Pd Charges  P Charges  \\\n",
      "0      file_2.log      2.335587     441.3224    0.145934   0.374562   \n",
      "1      file_3.log      2.322004     533.4963    0.156615   0.376504   \n",
      "2      file_4.log      2.279662     538.0357   -0.035276   0.406953   \n",
      "3      file_8.log      2.297092     536.7830   -0.097865   0.333561   \n",
      "4      file_9.log      2.321698     438.6867   -0.005311   0.397099   \n",
      "..            ...           ...          ...         ...        ...   \n",
      "283  file_492.log      2.359158     435.4185   -0.116444   0.367138   \n",
      "284  file_494.log      2.275222     538.4829   -0.135472   0.374371   \n",
      "285  file_495.log      2.309978     536.3384    0.212917   0.365079   \n",
      "286  file_496.log      2.300993     537.9040   -0.034927   0.378455   \n",
      "287  file_497.log      2.368634     195.4835   -0.272213   0.375221   \n",
      "\n",
      "    frc_constants  \n",
      "0          0.6244  \n",
      "1          1.3289  \n",
      "2          0.8101  \n",
      "3          0.9455  \n",
      "4          0.4827  \n",
      "..            ...  \n",
      "283        0.6469  \n",
      "284        0.5986  \n",
      "285        1.0781  \n",
      "286        0.8793  \n",
      "287        0.1658  \n",
      "\n",
      "[288 rows x 6 columns]\n"
     ]
    }
   ],
   "source": [
    "#Trying to grab force constant\n",
    "file_number = 0\n",
    "frc_constants = []\n",
    "for f in file_names:\n",
    "    full_file_path = file_path + f\n",
    "    with open(full_file_path, 'r') as file:\n",
    "        lines = file.readlines()\n",
    "\n",
    "    target_line_number = None\n",
    "    for line_number, line in enumerate(lines):\n",
    "        if str(frequencies[file_number]) in line:\n",
    "            file_number += 1\n",
    "            target_line_number = line_number\n",
    "            break\n",
    "    if target_line_number is None or target_line_number + 2 >= len(lines):\n",
    "        print(\"not found\") #Case where frequency isn't found or file ends\n",
    "\n",
    "    force_constant_line = lines[target_line_number + 2]\n",
    "#     print(force_constant_line)\n",
    "#     print(force_constant_line.split()[5])\n",
    "    frc_constants.append(force_constant_line.split()[5])\n",
    "\n",
    "#add data to pandas df\n",
    "gaussian_feats[\"frc_constants\"] = frc_constants\n",
    "print(len(frc_constants))\n",
    "print(gaussian_feats)"
   ]
  },
  {
   "cell_type": "code",
   "execution_count": 100,
   "id": "f25d0fe6",
   "metadata": {},
   "outputs": [
    {
     "name": "stdout",
     "output_type": "stream",
     "text": [
      "288\n"
     ]
    }
   ],
   "source": [
    "# Load the coordEnergy DataFrame and assume gaussian_feats is defined\n",
    "coordEnergy = pd.read_excel('/Users/drewhartsfield/Desktop/Ess Work/DFT/EssProperDFTValues.xlsx', sheet_name=\"Energies\")\n",
    "\n",
    "# Initialize the list to store coordination energies\n",
    "coord_energies = []\n",
    "\n",
    "# Iterate through file names and find corresponding coordination energies\n",
    "for f in gaussian_feats[\"file_names\"]:\n",
    "    row_index = coordEnergy.index[coordEnergy['FileName'] == f].tolist()\n",
    "    if row_index:\n",
    "        # Extract the specific value and append it to the list\n",
    "        coordination_energy = coordEnergy.at[row_index[0], 'CoordinationEnergy']\n",
    "#         print(coordination_energy)  # Print the value only\n",
    "        coord_energies.append(coordination_energy)\n",
    "    else:\n",
    "        print(f\"File name '{f}' not found in coordEnergy.\")\n",
    "\n",
    "print(len(coord_energies))\n",
    "\n",
    "# Now you can assign coord_energies to your DataFrame\n",
    "gaussian_feats['Coordination Energy'] = coord_energies\n"
   ]
  },
  {
   "cell_type": "code",
   "execution_count": 101,
   "id": "ed78ab68",
   "metadata": {},
   "outputs": [
    {
     "name": "stdout",
     "output_type": "stream",
     "text": [
      "       file_names  M-P Distance  frequencies  Pd Charges  P Charges  \\\n",
      "0      file_2.log      2.335587     441.3224    0.145934   0.374562   \n",
      "1      file_3.log      2.322004     533.4963    0.156615   0.376504   \n",
      "2      file_4.log      2.279662     538.0357   -0.035276   0.406953   \n",
      "3      file_8.log      2.297092     536.7830   -0.097865   0.333561   \n",
      "4      file_9.log      2.321698     438.6867   -0.005311   0.397099   \n",
      "..            ...           ...          ...         ...        ...   \n",
      "283  file_492.log      2.359158     435.4185   -0.116444   0.367138   \n",
      "284  file_494.log      2.275222     538.4829   -0.135472   0.374371   \n",
      "285  file_495.log      2.309978     536.3384    0.212917   0.365079   \n",
      "286  file_496.log      2.300993     537.9040   -0.034927   0.378455   \n",
      "287  file_497.log      2.368634     195.4835   -0.272213   0.375221   \n",
      "\n",
      "     frc_constants  Coordination Energy  \n",
      "0           0.6244            39.906467  \n",
      "1           1.3289            48.879853  \n",
      "2           0.8101            55.342573  \n",
      "3           0.9455            55.647542  \n",
      "4           0.4827            30.648191  \n",
      "..             ...                  ...  \n",
      "283         0.6469            44.322251  \n",
      "284         0.5986            55.222719  \n",
      "285         1.0781            65.955641  \n",
      "286         0.8793            41.516029  \n",
      "287         0.1658            41.127600  \n",
      "\n",
      "[288 rows x 7 columns]\n"
     ]
    }
   ],
   "source": [
    "gaussian_feats[\"frc_constants\"] = gaussian_feats[\"frc_constants\"].astype(float)\n",
    "print(gaussian_feats)\n"
   ]
  },
  {
   "cell_type": "code",
   "execution_count": 102,
   "id": "da5bf9cc",
   "metadata": {},
   "outputs": [
    {
     "data": {
      "image/png": "[encoded data removed]",
      "text/plain": [
       "<Figure size 576x432 with 2 Axes>"
      ]
     },
     "metadata": {},
     "output_type": "display_data"
    }
   ],
   "source": [
    "import seaborn as sns\n",
    "import matplotlib.pyplot as plt\n",
    "\n",
    "# Assuming you have a DataFrame named df and you want to visualize the correlation between 'column1' and 'column2'\n",
    "# df = ...\n",
    "\n",
    "# Calculate the correlation matrix\n",
    "correlation_matrix = gaussian_feats[['frc_constants', 'Coordination Energy']].corr()\n",
    "\n",
    "# Create a heatmap using Seaborn\n",
    "sns.set(style=\"white\")\n",
    "plt.figure(figsize=(8, 6))\n",
    "sns.heatmap(correlation_matrix, annot=True, cmap='coolwarm', center=0)\n",
    "\n",
    "# Add title and show the plot\n",
    "plt.title(\"Correlation Heatmap\")\n",
    "plt.show()\n"
   ]
  },
  {
   "cell_type": "code",
   "execution_count": 103,
   "id": "b0e7eb44",
   "metadata": {
    "scrolled": true
   },
   "outputs": [
    {
     "data": {
      "image/png": "[encoded data removed]",
      "text/plain": [
       "<Figure size 576x432 with 1 Axes>"
      ]
     },
     "metadata": {},
     "output_type": "display_data"
    }
   ],
   "source": [
    "sns.set(style=\"whitegrid\")\n",
    "plt.figure(figsize=(8, 6))\n",
    "sns.regplot(data=gaussian_feats, x='frc_constants', y='Coordination Energy', scatter_kws={'s': 100})\n",
    "plt.xlabel('frc_constants')\n",
    "plt.ylabel('Coordination Energy')\n",
    "plt.title('Scatter Plot with Regression Line')\n",
    "plt.show()"
   ]
  },
  {
   "cell_type": "code",
   "execution_count": 107,
   "id": "5d28c5e2",
   "metadata": {},
   "outputs": [
    {
     "name": "stdout",
     "output_type": "stream",
     "text": [
      "     Coordination Energy\n",
      "0              39.906467\n",
      "1              48.879853\n",
      "2              55.342573\n",
      "3              55.647542\n",
      "4              30.648191\n",
      "..                   ...\n",
      "283            44.322251\n",
      "284            55.222719\n",
      "285            65.955641\n",
      "286            41.516029\n",
      "287            41.127600\n",
      "\n",
      "[288 rows x 1 columns]\n",
      "     M-P Distance  frequencies  Pd Charges  P Charges  frc_constants\n",
      "0        2.335587     441.3224    0.145934   0.374562         0.6244\n",
      "1        2.322004     533.4963    0.156615   0.376504         1.3289\n",
      "2        2.279662     538.0357   -0.035276   0.406953         0.8101\n",
      "3        2.297092     536.7830   -0.097865   0.333561         0.9455\n",
      "4        2.321698     438.6867   -0.005311   0.397099         0.4827\n",
      "..            ...          ...         ...        ...            ...\n",
      "283      2.359158     435.4185   -0.116444   0.367138         0.6469\n",
      "284      2.275222     538.4829   -0.135472   0.374371         0.5986\n",
      "285      2.309978     536.3384    0.212917   0.365079         1.0781\n",
      "286      2.300993     537.9040   -0.034927   0.378455         0.8793\n",
      "287      2.368634     195.4835   -0.272213   0.375221         0.1658\n",
      "\n",
      "[288 rows x 5 columns]\n"
     ]
    }
   ],
   "source": [
    "y = gaussian_feats[['Coordination Energy']]\n",
    "print(y)\n",
    "\n",
    "X = gaussian_feats.drop(['Coordination Energy','file_names'], axis = 1)\n",
    "print(X)"
   ]
  },
  {
   "cell_type": "code",
   "execution_count": 106,
   "id": "50785d4d",
   "metadata": {},
   "outputs": [
    {
     "name": "stdout",
     "output_type": "stream",
     "text": [
      "X : (288, 5)\n",
      "y : (288, 1)\n"
     ]
    },
    {
     "ename": "AttributeError",
     "evalue": "'numpy.ndarray' object has no attribute 'head'",
     "output_type": "error",
     "traceback": [
      "\u001b[0;31m---------------------------------------------------------------------------\u001b[0m",
      "\u001b[0;31mAttributeError\u001b[0m                            Traceback (most recent call last)",
      "Input \u001b[0;32mIn [106]\u001b[0m, in \u001b[0;36m<cell line: 3>\u001b[0;34m()\u001b[0m\n\u001b[1;32m      1\u001b[0m \u001b[38;5;28mprint\u001b[39m(\u001b[38;5;124mf\u001b[39m\u001b[38;5;124m'\u001b[39m\u001b[38;5;124mX : \u001b[39m\u001b[38;5;132;01m{\u001b[39;00mX\u001b[38;5;241m.\u001b[39mshape\u001b[38;5;132;01m}\u001b[39;00m\u001b[38;5;124m'\u001b[39m)\n\u001b[1;32m      2\u001b[0m \u001b[38;5;28mprint\u001b[39m(\u001b[38;5;124mf\u001b[39m\u001b[38;5;124m'\u001b[39m\u001b[38;5;124my : \u001b[39m\u001b[38;5;132;01m{\u001b[39;00my\u001b[38;5;241m.\u001b[39mshape\u001b[38;5;132;01m}\u001b[39;00m\u001b[38;5;124m'\u001b[39m)\n\u001b[0;32m----> 3\u001b[0m \u001b[38;5;28mprint\u001b[39m(\u001b[43my\u001b[49m\u001b[38;5;241;43m.\u001b[39;49m\u001b[43mhead\u001b[49m())\n",
      "\u001b[0;31mAttributeError\u001b[0m: 'numpy.ndarray' object has no attribute 'head'"
     ]
    }
   ],
   "source": [
    "print(f'X : {X.shape}')\n",
    "print(f'y : {y.shape}')\n",
    "print(y.head())"
   ]
  },
  {
   "cell_type": "code",
   "execution_count": 129,
   "id": "ce877ded",
   "metadata": {},
   "outputs": [
    {
     "name": "stdout",
     "output_type": "stream",
     "text": [
      "     Coordination Energy\n",
      "56             48.173277\n",
      "158            35.059583\n",
      "264            69.597706\n",
      "178            48.138136\n",
      "74             56.080524\n",
      "..                   ...\n",
      "40             35.477505\n",
      "75             72.554531\n",
      "87             37.590957\n",
      "63             39.046779\n",
      "11             35.278584\n",
      "\n",
      "[230 rows x 1 columns]\n",
      "x training set\n",
      "[[0.3885014  0.97927608 0.88898628 0.50695122 0.45237361]\n",
      " [0.32881944 0.74946344 0.63361728 0.61009368 0.16877464]\n",
      " [0.45020772 0.04644299 0.72076926 0.58416397 0.00411311]\n",
      " ...\n",
      " [0.28704445 0.76052109 0.69810983 0.72700025 0.19053985]\n",
      " [0.46436089 0.20880798 0.3290236  0.42298322 0.03739503]\n",
      " [0.75568112 0.         0.55289557 0.47664866 0.01316195]]\n"
     ]
    }
   ],
   "source": [
    "from sklearn.model_selection import train_test_split\n",
    "import matplotlib.pyplot as plt\n",
    "from sklearn.metrics import mean_squared_error, mean_absolute_error, r2_score\n",
    "X_train, X_test, y_train, y_test = train_test_split(X,y, test_size = 0.20, random_state=101)\n",
    "print(y_train)\n",
    "from sklearn.preprocessing import MinMaxScaler\n",
    "\n",
    "# Normalization done here\n",
    "#Tried MinMaxScaler and StandardScaler\n",
    "scaler = MinMaxScaler()\n",
    "normalized_X_train = scaler.fit_transfform(X_train)\n",
    "normalizied_X_test = scaler.fit_transform(X_test)\n",
    "normalized_y_train = scaler.fit_transform(y_train)\n",
    "normalized_y_test = scaler.fit_transform(y_test)\n",
    "print(\"x training set\")\n",
    "print(normalized_X_train)"
   ]
  },
  {
   "cell_type": "code",
   "execution_count": 130,
   "id": "70eb0dd7",
   "metadata": {},
   "outputs": [],
   "source": [
    "from sklearn.ensemble import RandomForestRegressor as RandomForestRegressor\n",
    "from sklearn.model_selection import train_test_split, cross_validate, cross_val_score\n",
    "from sklearn.metrics import mean_squared_error, mean_absolute_error, r2_score\n",
    "from sklearn.decomposition import PCA\n",
    "\n",
    "from sklearn.feature_selection import SelectKBest, mutual_info_regression\n",
    "\n",
    "from sklearn.inspection import permutation_importance\n",
    "from sklearn.ensemble import RandomForestClassifier"
   ]
  },
  {
   "cell_type": "code",
   "execution_count": 131,
   "id": "352dfc86",
   "metadata": {},
   "outputs": [
    {
     "name": "stdout",
     "output_type": "stream",
     "text": [
      "X_train : (230, 5)\n",
      "X_test : (58, 5)\n",
      "y_train : (230, 1)\n",
      "y_test : (58, 1)\n"
     ]
    }
   ],
   "source": [
    "print(f'X_train : {X_train.shape}')\n",
    "print(f'X_test : {X_test.shape}')\n",
    "print(f'y_train : {y_train.shape}')\n",
    "print(f'y_test : {normalized_y_test.shape}')"
   ]
  },
  {
   "cell_type": "code",
   "execution_count": 132,
   "id": "fcb11384",
   "metadata": {},
   "outputs": [],
   "source": [
    "model = RandomForestRegressor(bootstrap = True, n_estimators = 1000, criterion = 'mse',max_depth = None, random_state = 101, n_jobs = -1)"
   ]
  },
  {
   "cell_type": "code",
   "execution_count": 133,
   "id": "9822b22d",
   "metadata": {},
   "outputs": [
    {
     "data": {
      "text/html": [
       "<style>#sk-container-id-4 {color: black;background-color: white;}#sk-container-id-4 pre{padding: 0;}#sk-container-id-4 div.sk-toggleable {background-color: white;}#sk-container-id-4 label.sk-toggleable__label {cursor: pointer;display: block;width: 100%;margin-bottom: 0;padding: 0.3em;box-sizing: border-box;text-align: center;}#sk-container-id-4 label.sk-toggleable__label-arrow:before {content: \"▸\";float: left;margin-right: 0.25em;color: #696969;}#sk-container-id-4 label.sk-toggleable__label-arrow:hover:before {color: black;}#sk-container-id-4 div.sk-estimator:hover label.sk-toggleable__label-arrow:before {color: black;}#sk-container-id-4 div.sk-toggleable__content {max-height: 0;max-width: 0;overflow: hidden;text-align: left;background-color: #f0f8ff;}#sk-container-id-4 div.sk-toggleable__content pre {margin: 0.2em;color: black;border-radius: 0.25em;background-color: #f0f8ff;}#sk-container-id-4 input.sk-toggleable__control:checked~div.sk-toggleable__content {max-height: 200px;max-width: 100%;overflow: auto;}#sk-container-id-4 input.sk-toggleable__control:checked~label.sk-toggleable__label-arrow:before {content: \"▾\";}#sk-container-id-4 div.sk-estimator input.sk-toggleable__control:checked~label.sk-toggleable__label {background-color: #d4ebff;}#sk-container-id-4 div.sk-label input.sk-toggleable__control:checked~label.sk-toggleable__label {background-color: #d4ebff;}#sk-container-id-4 input.sk-hidden--visually {border: 0;clip: rect(1px 1px 1px 1px);clip: rect(1px, 1px, 1px, 1px);height: 1px;margin: -1px;overflow: hidden;padding: 0;position: absolute;width: 1px;}#sk-container-id-4 div.sk-estimator {font-family: monospace;background-color: #f0f8ff;border: 1px dotted black;border-radius: 0.25em;box-sizing: border-box;margin-bottom: 0.5em;}#sk-container-id-4 div.sk-estimator:hover {background-color: #d4ebff;}#sk-container-id-4 div.sk-parallel-item::after {content: \"\";width: 100%;border-bottom: 1px solid gray;flex-grow: 1;}#sk-container-id-4 div.sk-label:hover label.sk-toggleable__label {background-color: #d4ebff;}#sk-container-id-4 div.sk-serial::before {content: \"\";position: absolute;border-left: 1px solid gray;box-sizing: border-box;top: 0;bottom: 0;left: 50%;z-index: 0;}#sk-container-id-4 div.sk-serial {display: flex;flex-direction: column;align-items: center;background-color: white;padding-right: 0.2em;padding-left: 0.2em;position: relative;}#sk-container-id-4 div.sk-item {position: relative;z-index: 1;}#sk-container-id-4 div.sk-parallel {display: flex;align-items: stretch;justify-content: center;background-color: white;position: relative;}#sk-container-id-4 div.sk-item::before, #sk-container-id-4 div.sk-parallel-item::before {content: \"\";position: absolute;border-left: 1px solid gray;box-sizing: border-box;top: 0;bottom: 0;left: 50%;z-index: -1;}#sk-container-id-4 div.sk-parallel-item {display: flex;flex-direction: column;z-index: 1;position: relative;background-color: white;}#sk-container-id-4 div.sk-parallel-item:first-child::after {align-self: flex-end;width: 50%;}#sk-container-id-4 div.sk-parallel-item:last-child::after {align-self: flex-start;width: 50%;}#sk-container-id-4 div.sk-parallel-item:only-child::after {width: 0;}#sk-container-id-4 div.sk-dashed-wrapped {border: 1px dashed gray;margin: 0 0.4em 0.5em 0.4em;box-sizing: border-box;padding-bottom: 0.4em;background-color: white;}#sk-container-id-4 div.sk-label label {font-family: monospace;font-weight: bold;display: inline-block;line-height: 1.2em;}#sk-container-id-4 div.sk-label-container {text-align: center;}#sk-container-id-4 div.sk-container {/* jupyter's `normalize.less` sets `[hidden] { display: none; }` but bootstrap.min.css set `[hidden] { display: none !important; }` so we also need the `!important` here to be able to override the default hidden behavior on the sphinx rendered scikit-learn.org. See: https://github.com/scikit-learn/scikit-learn/issues/21755 */display: inline-block !important;position: relative;}#sk-container-id-4 div.sk-text-repr-fallback {display: none;}</style><div id=\"sk-container-id-4\" class=\"sk-top-container\"><div class=\"sk-text-repr-fallback\"><pre>RandomForestRegressor(criterion=&#x27;mse&#x27;, n_estimators=1000, n_jobs=-1,\n",
       "                      random_state=101)</pre><b>In a Jupyter environment, please rerun this cell to show the HTML representation or trust the notebook. <br />On GitHub, the HTML representation is unable to render, please try loading this page with nbviewer.org.</b></div><div class=\"sk-container\" hidden><div class=\"sk-item\"><div class=\"sk-estimator sk-toggleable\"><input class=\"sk-toggleable__control sk-hidden--visually\" id=\"sk-estimator-id-4\" type=\"checkbox\" checked><label for=\"sk-estimator-id-4\" class=\"sk-toggleable__label sk-toggleable__label-arrow\">RandomForestRegressor</label><div class=\"sk-toggleable__content\"><pre>RandomForestRegressor(criterion=&#x27;mse&#x27;, n_estimators=1000, n_jobs=-1,\n",
       "                      random_state=101)</pre></div></div></div></div></div>"
      ],
      "text/plain": [
       "RandomForestRegressor(criterion='mse', n_estimators=1000, n_jobs=-1,\n",
       "                      random_state=101)"
      ]
     },
     "execution_count": 133,
     "metadata": {},
     "output_type": "execute_result"
    }
   ],
   "source": [
    "model.fit(X_train,y_train)"
   ]
  },
  {
   "cell_type": "code",
   "execution_count": 134,
   "id": "43627da1",
   "metadata": {},
   "outputs": [],
   "source": [
    "y_train_pred = model.predict(X_train)\n",
    "y_valid_pred = model.predict(X_test)"
   ]
  },
  {
   "cell_type": "code",
   "execution_count": 135,
   "id": "8588d168",
   "metadata": {},
   "outputs": [
    {
     "name": "stdout",
     "output_type": "stream",
     "text": [
      "MAE_train= 2.327152186912928\n",
      "MAE_valid= 6.788801508455528\n",
      "R2_train= 0.8937900220518259\n",
      "R2_valid= 0.24026158597394576\n"
     ]
    },
    {
     "data": {
      "text/plain": [
       "<Figure size 432x288 with 0 Axes>"
      ]
     },
     "execution_count": 135,
     "metadata": {},
     "output_type": "execute_result"
    },
    {
     "data": {
      "text/plain": [
       "<Figure size 432x288 with 0 Axes>"
      ]
     },
     "metadata": {},
     "output_type": "display_data"
    }
   ],
   "source": [
    "MSE_train = mean_squared_error(y_train, y_train_pred)\n",
    "MAE_train = mean_absolute_error(y_train, y_train_pred)\n",
    "R2_train = r2_score(y_train, y_train_pred)\n",
    "MSE_valid = mean_squared_error(y_test, y_valid_pred)\n",
    "MAE_valid = mean_absolute_error(y_test, y_valid_pred)\n",
    "R2_valid = r2_score(y_test, y_valid_pred)\n",
    "print(\"MAE_train=\", MAE_train)\n",
    "print(\"MAE_valid=\", MAE_valid)\n",
    "print(\"R2_train=\", R2_train)\n",
    "print(\"R2_valid=\", R2_valid)\n",
    "plt.figure()"
   ]
  },
  {
   "cell_type": "code",
   "execution_count": null,
   "id": "a6a28c52",
   "metadata": {},
   "outputs": [],
   "source": [
    "#scifinder tool \n",
    "#normalization\n",
    "#Frc constant\n",
    "#bond orders (NBO)"
   ]
  },
  {
   "cell_type": "code",
   "execution_count": null,
   "id": "5f7e08cb",
   "metadata": {},
   "outputs": [],
   "source": []
  }
 ],
 "metadata": {
  "kernelspec": {
   "display_name": "Python 3 (ipykernel)",
   "language": "python",
   "name": "python3"
  },
  "language_info": {
   "codemirror_mode": {
    "name": "ipython",
    "version": 3
   },
   "file_extension": ".py",
   "mimetype": "text/x-python",
   "name": "python",
   "nbconvert_exporter": "python",
   "pygments_lexer": "ipython3",
   "version": "3.9.13"
  }
 },
 "nbformat": 4,
 "nbformat_minor": 5
}
